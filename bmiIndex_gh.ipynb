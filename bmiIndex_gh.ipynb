{
 "cells": [
  {
   "cell_type": "code",
   "execution_count": 1,
   "id": "a8e7023d",
   "metadata": {},
   "outputs": [
    {
     "name": "stdout",
     "output_type": "stream",
     "text": [
      "enter your height in m: 1.88\n",
      "enter your weight in kg: 116\n",
      "your bmi = 32.8.\n",
      "\n",
      "It's an alarm sign my friend.\n",
      "\n",
      "You are obese. Time to really take care of yourself.\n"
     ]
    }
   ],
   "source": [
    "\n",
    "height = float(input(\"enter your height in m: \"))\n",
    "weight = float(input(\"enter your weight in kg: \"))\n",
    "\n",
    "#BMI calculation\n",
    "\n",
    "bmiIdx = round(weight / height ** 2,1)\n",
    "\n",
    "print(f'your bmi = {bmiIdx}\\n')\n",
    "if bmiIdx < 18.5:\n",
    "    print('You are underweight.\\n\\nEat more good stuff, please. Everything will be fine soon.')\n",
    "elif bmiIdx < 25:\n",
    "    print('Your weight is normal.\\n\\nKeep it this way, pal :)')\n",
    "elif bmiIdx < 30:\n",
    "    print('You are slightly overweight.\\n\\nMaybe you should excercise a little bit more, and perhaps try to avoid junk food.')\n",
    "elif bmiIdx <35:\n",
    "    print(\"It's an alarm sign my friend.\\n\\nYou are obese. Time to really take care of yourself.\")\n",
    "else:\n",
    "    print(\"Go to a doctor and do it quickly.\\n\\nYour haelth is in danger. You are clinically obese.\")\n"
   ]
  },
  {
   "cell_type": "code",
   "execution_count": null,
   "id": "80a19aa9",
   "metadata": {},
   "outputs": [],
   "source": []
  }
 ],
 "metadata": {
  "kernelspec": {
   "display_name": "Python 3 (ipykernel)",
   "language": "python",
   "name": "python3"
  },
  "language_info": {
   "codemirror_mode": {
    "name": "ipython",
    "version": 3
   },
   "file_extension": ".py",
   "mimetype": "text/x-python",
   "name": "python",
   "nbconvert_exporter": "python",
   "pygments_lexer": "ipython3",
   "version": "3.11.2"
  }
 },
 "nbformat": 4,
 "nbformat_minor": 5
}
