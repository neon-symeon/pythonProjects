{
 "cells": [
  {
   "cell_type": "code",
   "execution_count": 1,
   "id": "f3f4ec5e",
   "metadata": {},
   "outputs": [
    {
     "name": "stdout",
     "output_type": "stream",
     "text": [
      "Welcome to the PyPassword Generator!\n",
      "How many letters would you like in your password?\n",
      "12\n",
      "How many symbols would you like?\n",
      "4\n",
      "How many numbers would you like?\n",
      "2\n",
      "\n",
      "------------------------------------------ \n",
      "| Generated Password: *V4$0%!nltdWQSniJw |\n",
      "------------------------------------------\n"
     ]
    }
   ],
   "source": [
    "#Password Generator Project\n",
    "import random as rd\n",
    "letters = ['a', 'b', 'c', 'd', 'e', 'f', 'g', 'h', 'i', 'j', 'k', 'l', 'm', 'n', 'o', 'p', 'q', 'r', 's', 't', 'u', 'v', 'w', 'x', 'y', 'z', 'A', 'B', 'C', 'D', 'E', 'F', 'G', 'H', 'I', 'J', 'K', 'L', 'M', 'N', 'O', 'P', 'Q', 'R', 'S', 'T', 'U', 'V', 'W', 'X', 'Y', 'Z']\n",
    "numbers = ['0', '1', '2', '3', '4', '5', '6', '7', '8', '9']\n",
    "symbols = ['!', '#', '$', '%', '&', '(', ')', '*', '+']\n",
    "\n",
    "print(\"Welcome to the PyPassword Generator!\")\n",
    "nr_letters= int(input(\"How many letters would you like in your password?\\n\")) \n",
    "nr_symbols = int(input(f\"How many symbols would you like?\\n\"))\n",
    "nr_numbers = int(input(f\"How many numbers would you like?\\n\"))\n",
    "\n",
    "#Eazy Level - Order not randomised:\n",
    "#e.g. 4 letter, 2 symbol, 2 number = JduE&!91\n",
    "\n",
    "\n",
    "#Hard Level - Order of characters randomised:\n",
    "#e.g. 4 letter, 2 symbol, 2 number = g^2jk8&P\n",
    "\n",
    "\n",
    "my_password = ''\n",
    "select_from = [1,2,3]\n",
    "n = 0\n",
    "n_l = 0\n",
    "n_n = 0\n",
    "n_s = 0\n",
    "\n",
    "m = 0\n",
    "while (n < nr_letters + nr_symbols + nr_numbers) and (m<999):\n",
    "    \n",
    "    m += 1\n",
    "          \n",
    "    prob = rd.choice(select_from)\n",
    "#    print(f'\\napproach {m}. n= {n}, nn_l = {n_l}, n_n = {n_n} n_s = {n_s}: it is going for = {prob}\\n')\n",
    "    \n",
    "    if prob == 1:\n",
    "        if n_l < nr_letters:\n",
    "            my_password += rd.choice(letters)\n",
    "            n += 1\n",
    "            n_l += 1\n",
    "            #print(f'i am adding {n_l} letter') \n",
    "        else: \n",
    "            select_from.remove(1)\n",
    "            #print(f'removing 1 from list; remains: {select_from}')\n",
    "    if prob == 2:\n",
    "        if n_n < nr_numbers:\n",
    "            my_password += rd.choice(numbers)\n",
    "            n += 1\n",
    "            n_n += 1\n",
    "            #print(f'i am adding {n_n} number')\n",
    "        else:\n",
    "            select_from.remove(2)\n",
    "            #print(f'removing 2 from list, remains: {select_from}')\n",
    "    \n",
    "    if prob == 3:\n",
    "        if n_s < nr_symbols:\n",
    "            my_password += rd.choice(symbols)\n",
    "            n += 1\n",
    "            n_s += 1\n",
    "            #print(f'i am adding {n_s} symbol')\n",
    "        else:\n",
    "            select_from.remove(3)\n",
    "            #print(f'removing 3 from list, remains: {select_from}')\n",
    "    \n",
    "answer = f'Generated Password: {my_password}'\n",
    "decore = '-'*(len(answer) + 4)\n",
    "print('\\n' + decore + ' \\n| ' + answer + ' |\\n' + decore+'\\n')"
   ]
  },
  {
   "cell_type": "code",
   "execution_count": 2,
   "id": "fc2c68ec",
   "metadata": {},
   "outputs": [],
   "source": [
    "status = [0,0]"
   ]
  },
  {
   "cell_type": "code",
   "execution_count": 3,
   "id": "1af7eb4c",
   "metadata": {},
   "outputs": [],
   "source": [
    "status[0]+=1"
   ]
  },
  {
   "cell_type": "code",
   "execution_count": 4,
   "id": "e90b2203",
   "metadata": {},
   "outputs": [
    {
     "data": {
      "text/plain": [
       "[1, 0]"
      ]
     },
     "execution_count": 4,
     "metadata": {},
     "output_type": "execute_result"
    }
   ],
   "source": [
    "status"
   ]
  },
  {
   "cell_type": "code",
   "execution_count": 5,
   "id": "7efbf721",
   "metadata": {},
   "outputs": [],
   "source": [
    "status[1]+=1"
   ]
  },
  {
   "cell_type": "code",
   "execution_count": 6,
   "id": "880cfe4b",
   "metadata": {},
   "outputs": [
    {
     "data": {
      "text/plain": [
       "[1, 1]"
      ]
     },
     "execution_count": 6,
     "metadata": {},
     "output_type": "execute_result"
    }
   ],
   "source": [
    "status"
   ]
  },
  {
   "cell_type": "code",
   "execution_count": null,
   "id": "4625946d",
   "metadata": {},
   "outputs": [],
   "source": []
  }
 ],
 "metadata": {
  "kernelspec": {
   "display_name": "Python 3 (ipykernel)",
   "language": "python",
   "name": "python3"
  },
  "language_info": {
   "codemirror_mode": {
    "name": "ipython",
    "version": 3
   },
   "file_extension": ".py",
   "mimetype": "text/x-python",
   "name": "python",
   "nbconvert_exporter": "python",
   "pygments_lexer": "ipython3",
   "version": "3.10.9"
  }
 },
 "nbformat": 4,
 "nbformat_minor": 5
}
